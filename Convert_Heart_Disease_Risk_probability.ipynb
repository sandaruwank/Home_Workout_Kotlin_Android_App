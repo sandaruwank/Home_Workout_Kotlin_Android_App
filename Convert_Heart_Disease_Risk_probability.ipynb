{
  "nbformat": 4,
  "nbformat_minor": 0,
  "metadata": {
    "colab": {
      "provenance": [],
      "authorship_tag": "ABX9TyOesK60Tp71Ac69vfIGGvl0",
      "include_colab_link": true
    },
    "kernelspec": {
      "name": "python3",
      "display_name": "Python 3"
    },
    "language_info": {
      "name": "python"
    }
  },
  "cells": [
    {
      "cell_type": "markdown",
      "metadata": {
        "id": "view-in-github",
        "colab_type": "text"
      },
      "source": [
        "<a href=\"https://colab.research.google.com/github/sandaruwank/Home_Workout_Kotlin_Android_App/blob/master/Convert_Heart_Disease_Risk_probability.ipynb\" target=\"_parent\"><img src=\"https://colab.research.google.com/assets/colab-badge.svg\" alt=\"Open In Colab\"/></a>"
      ]
    },
    {
      "cell_type": "code",
      "execution_count": 1,
      "metadata": {
        "colab": {
          "base_uri": "https://localhost:8080/"
        },
        "id": "F3ccA15uxSWs",
        "outputId": "e0e44f26-96ae-452b-bc03-41e7daf11d3c"
      },
      "outputs": [
        {
          "output_type": "execute_result",
          "data": {
            "text/plain": [
              "['heart_disease_model.pkl']"
            ]
          },
          "metadata": {},
          "execution_count": 1
        }
      ],
      "source": [
        "import pandas as pd\n",
        "from sklearn.model_selection import train_test_split\n",
        "from sklearn.preprocessing import OneHotEncoder, StandardScaler\n",
        "from sklearn.impute import SimpleImputer\n",
        "from sklearn.compose import ColumnTransformer\n",
        "from sklearn.pipeline import Pipeline\n",
        "from sklearn.linear_model import LogisticRegression\n",
        "import joblib\n",
        "\n",
        "# Load your dataset (replace 'your_dataset.csv' with your file)\n",
        "df = pd.read_csv('/content/heart_disese_risk.csv')\n",
        "\n",
        "# Define features and target\n",
        "features = ['Age', 'Sex', 'ChestPainType', 'RestingBP', 'Cholesterol', 'FastingBS',\n",
        "            'RestingECG', 'MaxHR', 'ExerciseAngina', 'Oldpeak', 'ST_Slope', 'Spo2', 'BMI', 'ECG']\n",
        "X = df[features]\n",
        "y = df['HeartDisease']\n",
        "\n",
        "# Define feature categories\n",
        "categorical_cols = ['Sex', 'ChestPainType', 'RestingECG', 'ExerciseAngina', 'ST_Slope']\n",
        "numerical_cols_to_impute = ['RestingBP', 'Cholesterol', 'MaxHR', 'Spo2', 'BMI']\n",
        "numerical_cols_no_impute = ['Age', 'Oldpeak', 'ECG', 'FastingBS']\n",
        "\n",
        "# Create preprocessing steps\n",
        "preprocessor = ColumnTransformer([\n",
        "    ('cat', OneHotEncoder(handle_unknown='ignore'), categorical_cols),\n",
        "    ('num_impute_scale', Pipeline([\n",
        "        ('impute', SimpleImputer(strategy='median', missing_values=0)),\n",
        "        ('scale', StandardScaler())\n",
        "    ]), numerical_cols_to_impute),\n",
        "    ('num_scale', StandardScaler(), numerical_cols_no_impute)\n",
        "])\n",
        "\n",
        "# Create a pipeline with preprocessing and model\n",
        "model = Pipeline([\n",
        "    ('preprocess', preprocessor),\n",
        "    ('clf', LogisticRegression())\n",
        "])\n",
        "\n",
        "# Split data into training and testing sets\n",
        "X_train, X_test, y_train, y_test = train_test_split(X, y, test_size=0.2, random_state=42)\n",
        "\n",
        "# Train the model\n",
        "model.fit(X_train, y_train)\n",
        "\n",
        "# Save the trained model\n",
        "joblib.dump(model, 'heart_disease_model.pkl')"
      ]
    },
    {
      "cell_type": "code",
      "source": [
        "# Example: Predict probability for a test sample\n",
        "probas = model.predict_proba(X_test)\n",
        "heart_risk_prob = probas[:, 1]  # Probability of heart disease (1)"
      ],
      "metadata": {
        "id": "Sna7Cv3gxfHS"
      },
      "execution_count": 2,
      "outputs": []
    },
    {
      "cell_type": "code",
      "source": [
        "# Example new patient data as a DataFrame\n",
        "new_patient = pd.DataFrame({\n",
        "    'Age': [55], 'Sex': ['M'], 'ChestPainType': ['ASY'], 'RestingBP': [140],\n",
        "    'Cholesterol': [200], 'FastingBS': [0], 'RestingECG': ['Normal'],\n",
        "    'MaxHR': [150], 'ExerciseAngina': ['N'], 'Oldpeak': [1.0], 'ST_Slope': ['Up'],\n",
        "    'Spo2': [98], 'BMI': [25], 'ECG': [500]\n",
        "})\n",
        "probability = model.predict_proba(new_patient)[0, 1]  # e.g., 0.75 (75%)"
      ],
      "metadata": {
        "id": "szgEZcxlyMpb"
      },
      "execution_count": 5,
      "outputs": []
    },
    {
      "cell_type": "code",
      "source": [
        "import joblib\n",
        "\n",
        "# Assuming 'model' is your trained pipeline\n",
        "joblib.dump(model, 'heart_disease_model.pkl')"
      ],
      "metadata": {
        "colab": {
          "base_uri": "https://localhost:8080/"
        },
        "id": "V4lbaSo_ybg3",
        "outputId": "916b9e97-b816-40af-9c4f-2213ab930d27"
      },
      "execution_count": 6,
      "outputs": [
        {
          "output_type": "execute_result",
          "data": {
            "text/plain": [
              "['heart_disease_model.pkl']"
            ]
          },
          "metadata": {},
          "execution_count": 6
        }
      ]
    },
    {
      "cell_type": "code",
      "source": [],
      "metadata": {
        "id": "AbEvdIw9ysSX"
      },
      "execution_count": null,
      "outputs": []
    }
  ]
}